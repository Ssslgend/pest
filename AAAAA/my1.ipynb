{
 "cells": [
  {
   "cell_type": "code",
   "execution_count": 4,
   "metadata": {},
   "outputs": [
    {
     "name": "stdout",
     "output_type": "stream",
     "text": [
      "5050\n"
     ]
    }
   ],
   "source": [
    "cont=sum(range(0,101))\n",
    "print(cont)"
   ]
  },
  {
   "cell_type": "code",
   "execution_count": 12,
   "metadata": {},
   "outputs": [],
   "source": [
    "#list dict sets bytearrays 用户自定义的类实例 可变 传递内存中的地址\n",
    "#strings frozenset bytes number tuple 不可变 开辟新的内存，以前的值赋值"
   ]
  },
  {
   "cell_type": "code",
   "execution_count": 11,
   "metadata": {},
   "outputs": [],
   "source": [
    "#is 比较id值是否相等\n",
    "# == 比较对象的值是否相等 eq"
   ]
  },
  {
   "cell_type": "code",
   "execution_count": 6,
   "metadata": {},
   "outputs": [
    {
     "name": "stdout",
     "output_type": "stream",
     "text": [
      "[1, 3, 5, 7, 9]\n"
     ]
    }
   ],
   "source": [
    "#求出列表所有奇数并构造新列表\n",
    "a = [1,2,3,4,5,6,7,8,9,10]\n",
    "res =[i for i in a if i%2==1]\n",
    "print(res)"
   ]
  },
  {
   "cell_type": "code",
   "execution_count": 8,
   "metadata": {},
   "outputs": [
    {
     "name": "stdout",
     "output_type": "stream",
     "text": [
      "123\n"
     ]
    }
   ],
   "source": [
    "#字符串”123“转成123，不适用内置api\n",
    "#str()\n",
    "def fun(s):\n",
    "    num=0\n",
    "    for v in s:\n",
    "        for j in range(10):\n",
    "            if v==str(j):\n",
    "                num=num*10+j\n",
    "    return num\n",
    "print(fun(\"123\"))\n"
   ]
  },
  {
   "cell_type": "code",
   "execution_count": 14,
   "metadata": {},
   "outputs": [
    {
     "name": "stdout",
     "output_type": "stream",
     "text": [
      "123\n"
     ]
    }
   ],
   "source": [
    "#ord() 获取字符的Ascii值\n",
    "def fun(s):\n",
    "    num=0\n",
    "    for v in s:\n",
    "        num=num*10+ord(v)-ord('0') #2的码是50，0的码是48\n",
    "    return num\n",
    "print(fun(\"123\"))"
   ]
  },
  {
   "cell_type": "code",
   "execution_count": 17,
   "metadata": {},
   "outputs": [
    {
     "name": "stdout",
     "output_type": "stream",
     "text": [
      "[2]\n"
     ]
    }
   ],
   "source": [
    "#输入一个仅包含数字的list，输出一个新的list，其中每一个元素要满足以下条件：1.该元素的偶数是\n",
    "#2.该元素在原list中是在偶数的位置（index是偶数）\n",
    "def fun(a):\n",
    "    res=[]\n",
    "    for i in range(len(a)):\n",
    "        if a[i]%2==0 and i%2==0:\n",
    "            res.append(a[i])\n",
    "    return res\n",
    "print(fun([2,2,3,4,5,6,7,8,9,10]))                                                                                              "
   ]
  },
  {
   "cell_type": "code",
   "execution_count": 2,
   "metadata": {},
   "outputs": [
    {
     "name": "stdout",
     "output_type": "stream",
     "text": [
      "[0, 2, 4, 6, 8, 10]\n"
     ]
    }
   ],
   "source": [
    "def fun(num):\n",
    "    return [i for i in num if i%2==0 and num.index(i)%2==0]\n",
    "print(fun([0,1,2,3,4,5,6,7,8,9,10]))\n",
    " "
   ]
  },
  {
   "cell_type": "code",
   "execution_count": 3,
   "metadata": {},
   "outputs": [
    {
     "name": "stdout",
     "output_type": "stream",
     "text": [
      "336\n"
     ]
    }
   ],
   "source": [
    "\n",
    "#输出某年某月某日，判断这一天是这一年的第几天？\n",
    "import datetime\n",
    "year = int(input(\"请输入年份：\"))\n",
    "month = int(input(\"请输入月份：\"))\n",
    "day = int(input(\"请输入日期：\"))\n",
    "date1 = datetime.date(year,month,day)\n",
    "date2 = datetime.date(year,1,1)\n",
    "day = (date1-date2).days+1\n",
    "print(day)\n",
    " \n"
   ]
  },
  {
   "cell_type": "code",
   "execution_count": 4,
   "metadata": {},
   "outputs": [
    {
     "name": "stdout",
     "output_type": "stream",
     "text": [
      "Counter({'l': 3, 'o': 2, 'h': 1, 'e': 1, ' ': 1, 'w': 1, 'r': 1, 'd': 1})\n"
     ]
    }
   ],
   "source": [
    "\n",
    "#统计一段字符串中字符出现的次数\n",
    "from collections import Counter\n",
    "s = \"hello world\"\n",
    "res = Counter(s)\n",
    "print(res)\n",
    "\n",
    "\n"
   ]
  },
  {
   "cell_type": "code",
   "execution_count": 5,
   "metadata": {},
   "outputs": [],
   "source": [
    "#写一个类，并让他尽可能多支持操作符\n",
    "class MyClass:\n",
    "    def __init__(self,value):\n",
    "        self.value = value\n",
    "    def __add__(self,other):\n",
    "        return self.value+other.value\n",
    "    def __sub__(self,other):\n",
    "        return self.value-other.value\n",
    "\n"
   ]
  },
  {
   "cell_type": "code",
   "execution_count": null,
   "metadata": {},
   "outputs": [],
   "source": [
    "#python的内存管理机制及调优手段（自动的）\n",
    "#引用计数（为0时，垃圾回收），垃圾回收，内存池\n",
    "#调优手段：1.手动垃圾回收\n",
    "#2.调高垃圾回收阈值\n",
    "#3.避免频繁创建对象\n",
    "#4.使用生成器\n",
    "#5.使用with语句\n",
    "#6.使用生成器\n",
    " \n"
   ]
  },
  {
   "cell_type": "code",
   "execution_count": null,
   "metadata": {},
   "outputs": [],
   "source": [
    "#内存泄露是什么，如何避免\n",
    "#不能再用的内存 查看哪些不能用了gc sys.getrefcount()\n",
    "#1.对象不再使用，但还被引用\n",
    "#2.对象被全局变量引用\n",
    "#3.对象被其他对象引用\n",
    "#4.对象被循环引用\n",
    "#5.对象被其他对象引用\n",
    "\n",
    "\n",
    "\n"
   ]
  },
  {
   "cell_type": "code",
   "execution_count": null,
   "metadata": {},
   "outputs": [],
   "source": [
    "#read  读取整个文件\n",
    "# readline 读取一行\n",
    "# readlines 读取文件的迭代器，以供遍历"
   ]
  },
  {
   "cell_type": "code",
   "execution_count": null,
   "metadata": {},
   "outputs": [],
   "source": [
    "#函数调用参数的传递方式是值传递还是引用传递\n",
    "#值传递：传递的是不可变对象\n",
    "#引用传递：传递的是可变对象\n",
    "#python中函数参数传递是按引用传递的\n",
    "#如果传递的是不可变对象，在函数中修改不会影响原来的对象\n",
    "#如果传递的是可变对象，在函数中修改会影响原来的对象\n",
    "\n",
    "\n",
    "\n"
   ]
  },
  {
   "cell_type": "code",
   "execution_count": null,
   "metadata": {},
   "outputs": [],
   "source": []
  },
  {
   "cell_type": "code",
   "execution_count": null,
   "metadata": {},
   "outputs": [],
   "source": []
  },
  {
   "cell_type": "code",
   "execution_count": null,
   "metadata": {},
   "outputs": [],
   "source": []
  },
  {
   "cell_type": "code",
   "execution_count": null,
   "metadata": {},
   "outputs": [],
   "source": []
  }
 ],
 "metadata": {
  "kernelspec": {
   "display_name": "pytorch-gpu",
   "language": "python",
   "name": "python3"
  },
  "language_info": {
   "codemirror_mode": {
    "name": "ipython",
    "version": 3
   },
   "file_extension": ".py",
   "mimetype": "text/x-python",
   "name": "python",
   "nbconvert_exporter": "python",
   "pygments_lexer": "ipython3",
   "version": "3.8.18"
  }
 },
 "nbformat": 4,
 "nbformat_minor": 2
}
